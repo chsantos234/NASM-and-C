{
 "cells": [
  {
   "cell_type": "code",
   "execution_count": 1,
   "metadata": {},
   "outputs": [],
   "source": [
    "import csv\n",
    "\n",
    "folder = \"Data/\"\n",
    "file1 = \"atv1out.txt\"\n",
    "file2 = \"atv1Cout.txt\"\n",
    "\n",
    "with open(folder+file2, 'r') as in_file:\n",
    "    stripped = (line.strip() for line in in_file)\n",
    "    lines = (line.split(\"\t\") for line in stripped if line)\n",
    "    with open(folder+'atv1Cout.csv', 'w') as out_file:\n",
    "        writer = csv.writer(out_file)\n",
    "        writer.writerow(('title', 'time'))\n",
    "        writer.writerows(lines)\n",
    "\n",
    "with open(folder+file1, 'r') as in_file:\n",
    "    stripped = (line.strip() for line in in_file)\n",
    "    lines = (line.split(\"\t\") for line in stripped if line)\n",
    "    with open(folder+'atv1out.csv', 'w') as out_file:\n",
    "        writer = csv.writer(out_file)\n",
    "        writer.writerow(('title', 'time'))\n",
    "        writer.writerows(lines)"
   ]
  },
  {
   "cell_type": "code",
   "execution_count": 2,
   "metadata": {},
   "outputs": [
    {
     "name": "stdout",
     "output_type": "stream",
     "text": [
      "Para NASM:\n",
      "Média: 0.016 \n",
      "Desvio Padrão: 0.125475097130865 \n",
      "Intervalo de confiança: (0.008209786210530673, 0.023790213789469328) \n",
      "\n",
      "Para C:\n",
      "Média: 0.515 \n",
      "Desvio Padrão: 0.5017718605103318 \n",
      "Intervalo de confiança: (0.48384712459844964, 0.5461528754015503) \n",
      "\n"
     ]
    }
   ],
   "source": [
    "import numpy as np\n",
    "import scipy.stats as st\n",
    "\n",
    "filename1 = \"Data/atv1out.csv\" # valores de NASM\n",
    "filename2 = \"Data/atv1Cout.csv\" # valores de C\n",
    "\n",
    "def valores(filename):\n",
    "    times = []\n",
    "    with open(filename, 'r') as csvfile:\n",
    "\n",
    "        csvreader = csv.reader(csvfile)\n",
    "\n",
    "        for row in csvreader:\n",
    "            if len(row) > 0:\n",
    "                if row[0] == 'real':\n",
    "                    mss = row[1].replace(\"s\",'')\n",
    "                    ms = mss.split('.')\n",
    "                    num = int(ms[1])\n",
    "                    times.append(num)\n",
    "                \n",
    "    size = len(times)\n",
    "    \n",
    "    # média\n",
    "    mean = sum(times) / size\n",
    "\n",
    "    # desvio padrão\n",
    "    stdv = np.array(times).std()\n",
    "\n",
    "    # intervalo de confiança\n",
    "    confidence = 0.95\n",
    "    freedom = size-1\n",
    "    StandardError = st.sem(times)\n",
    "    confidenceInterval = st.t.interval(alpha=confidence, df=freedom, loc=mean, scale=StandardError)\n",
    "    return mean,stdv,confidenceInterval\n",
    "    \n",
    "media1,desvio1,intervalo1 = valores(filename1)\n",
    "media2,desvio2,intervalo2 = valores(filename2)\n",
    "    \n",
    "print(\"Para NASM:\\nMédia:\",media1,\"\\nDesvio Padrão:\",desvio1,\"\\nIntervalo de confiança:\",intervalo1,\"\\n\")\n",
    "print(\"Para C:\\nMédia:\",media2,\"\\nDesvio Padrão:\",desvio2,\"\\nIntervalo de confiança:\",intervalo2,\"\\n\")"
   ]
  }
 ],
 "metadata": {
  "kernelspec": {
   "display_name": "Python 3",
   "language": "python",
   "name": "python3"
  },
  "language_info": {
   "codemirror_mode": {
    "name": "ipython",
    "version": 3
   },
   "file_extension": ".py",
   "mimetype": "text/x-python",
   "name": "python",
   "nbconvert_exporter": "python",
   "pygments_lexer": "ipython3",
   "version": "3.8.3"
  }
 },
 "nbformat": 4,
 "nbformat_minor": 4
}
